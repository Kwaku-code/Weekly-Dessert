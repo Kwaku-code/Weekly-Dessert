{
 "cells": [
  {
   "cell_type": "markdown",
   "metadata": {},
   "source": [
    "views.py"
   ]
  },
  {
   "cell_type": "code",
   "execution_count": null,
   "metadata": {},
   "outputs": [],
   "source": [
    "from django.shortcuts import render, redirect\n",
    "from django.http import Http404\n",
    "from django.urls import reverse\n",
    "from .models import Week, Choice\n",
    "# import the login_required decorator and the LoginRequiredMixin mixin below\n",
    "from django.contrib.auth.decorators import login_required\n",
    "from django.contrib.auth.mixins import LoginRequiredMixin\n",
    "# Import the logout function from django.contrib.auth below\n",
    "from django.contrib.auth import logout\n",
    "from django.urls import reverse_lazy\n",
    "from django.contrib.auth.forms import UserCreationForm\n",
    "from django.views.generic import ListView, DetailView\n",
    "from django.views.generic.edit import CreateView\n",
    "\n",
    "# Add login_required decorator:\n",
    "@login_required\n",
    "def index(request):\n",
    "  latest_week_poll = Week.objects.get(pk=1)\n",
    "  context = {\n",
    "     \"name\": request.user,\n",
    "    \"week_poll\": latest_week_poll\n",
    "  }\n",
    "  return render(request, \"index.html\", context)\n",
    "\n",
    "# Create your class-based Signup view below:\n",
    "class SignUp(CreateView):\n",
    "  form_class = UserCreationForm\n",
    "  success_url = reverse_lazy(\"login\")\n",
    "  template_name = \"registration/signup.html\"\n",
    "\n",
    "class DetailsView(LoginRequiredMixin, DetailView):\n",
    "  model = Week\n",
    "  template_name = \"detail.html\"\n",
    "\n",
    "class ResultsView(LoginRequiredMixin, DetailView):\n",
    "  model = Week\n",
    "  template_name = \"results.html\"\n",
    "\n",
    "# Create your logout function, logout_request, below:\n",
    "def logout_request(request):\n",
    "  logout(request)\n",
    "  return redirect(\"index\")\n",
    "\n",
    "# Add login_required decorator:\n",
    "@login_required\n",
    "def vote(request, week_id):\n",
    "  try:\n",
    "    week = Week.objects.get(pk=week_id)\n",
    "    selected_choice = week.choice_set.get(pk=request.POST[\"choice\"])\n",
    "  except Week.DoesNotExist:\n",
    "    raise Http404(\"Poll for said week does not exists\")\n",
    "  else:\n",
    "    selected_choice.votes += 1\n",
    "    selected_choice.save()\n",
    "    return redirect(\"results\", week_id)\n"
   ]
  },
  {
   "cell_type": "markdown",
   "metadata": {},
   "source": [
    "urls.py"
   ]
  },
  {
   "cell_type": "code",
   "execution_count": null,
   "metadata": {},
   "outputs": [],
   "source": [
    "from django.urls import path, include\n",
    "\n",
    "from . import views\n",
    "\n",
    "urlpatterns = [\n",
    "\tpath(\"\", views.index, name=\"index\"),\n",
    "  # Add a path to your auth links below:\n",
    "  path(\"account/\", include(\"django.contrib.auth.urls\")),\n",
    "\t# Add a path to your signup request below:\n",
    "  path(\"signup/\", views.SignUp.as_view(), name=\"signup\"),\n",
    "\t# Add a path to your logout request below:\n",
    "  path(\"logout/\", views.logout, name=\"logout\")\n",
    "\tpath(\"polls/<int:pk>/\", views.DetailsView.as_view(), name=\"detail\"),\n",
    "\tpath(\"polls/<int:pk>/results/\", views.ResultsView.as_view(), name=\"results\"),\n",
    "\tpath(\"polls/<int:week_id>/vote/\", views.vote, name=\"vote\"),\n",
    "]"
   ]
  },
  {
   "cell_type": "markdown",
   "metadata": {},
   "source": [
    "models.py"
   ]
  },
  {
   "cell_type": "code",
   "execution_count": null,
   "metadata": {},
   "outputs": [],
   "source": [
    "import datetime\n",
    "from django.utils import timezone\n",
    "from django.db import models\n",
    "\n",
    "class Week(models.Model):\n",
    "  pub_date = models.DateTimeField(\"date published\")\n",
    "\n",
    "  # When creating a new instance, we want to inform students of the menu for the following week starting on Monday:\n",
    "  def start_of_week(self):\n",
    "\t\t# Using the module `datetime`, we can take todays date:\n",
    "    today = datetime.date.today()\n",
    "\t\t# Subtract the number of days which already passed this week (this gets you 'last' monday).\n",
    "\t\t# And add one week\n",
    "    start_of_week = today + datetime.timedelta(days=-today.weekday(), weeks=1)\n",
    "    return start_of_week\n",
    "\n",
    "  def was_published_recently(self):\n",
    "    return self.pub_date >= timezone.now() - datetime.timedelta(days=1)\n",
    "\n",
    "\n",
    "class Choice(models.Model):\n",
    "  week = models.ForeignKey(Week, on_delete=models.CASCADE)\n",
    "  dessert_choice = models.CharField(max_length=200)\n",
    "  dessert_details = models.CharField(max_length=200)\n",
    "  votes = models.IntegerField(default=0)\n",
    "  def __str__(self):\n",
    "    return self.dessert_choice"
   ]
  },
  {
   "cell_type": "markdown",
   "metadata": {},
   "source": [
    "header.html"
   ]
  },
  {
   "cell_type": "code",
   "execution_count": null,
   "metadata": {},
   "outputs": [],
   "source": [
    "{% load static %}\n",
    "\n",
    "<link rel=\"stylesheet\" type=\"text/css\" href=\"{% static 'weeklydessert/header.css' %}\">\n",
    "\n",
    "<div class=\"header\">\n",
    "  <img src=\"{% static 'weeklydessert/Dessert.png' %}\" >\n",
    "\t{% if user.username %}\n",
    "\t  <a class=\"logout-button\" href=\"{% url 'logout' %}\">Log Out</a>\n",
    "  {% endif %}\n",
    "  <div class=\"header-content\">\n",
    "    <h1 class=\"header-title\">Dessert Island</h1>\n",
    "    {% if user.username %}\n",
    "    <h4 class=\"header-greet\">Welcome {{ user.username }}!</h4>\n",
    "    {% endif %}\n",
    "  </div>\n",
    "</div>\n",
    "\n",
    "{% block content%}\n",
    "{% endblock %}"
   ]
  },
  {
   "cell_type": "markdown",
   "metadata": {},
   "source": [
    "login.htnl"
   ]
  },
  {
   "cell_type": "code",
   "execution_count": null,
   "metadata": {},
   "outputs": [],
   "source": [
    "{% extends \"header.html\" %}\n",
    "\n",
    "{% block content %}\n",
    "{% load static %}\n",
    "<link rel=\"stylesheet\" type=\"text/css\" href=\"{% static 'weeklydessert/login.css' %}\">\n",
    "\n",
    "<div class=\"login-form\">\n",
    "<h2>Please login</h2>\n",
    "  <form class=\"login\" method=\"post\">\n",
    "      <div>\n",
    "        {% csrf_token %}\n",
    "          {{ form.as_p }}\n",
    "          \n",
    "        <input type=\"submit\" value=\"Login\"/>\n",
    "      </div>\n",
    "  </form>\n",
    "</div>\n",
    "{% endblock %}"
   ]
  }
 ],
 "metadata": {
  "kernelspec": {
   "display_name": "Python 3",
   "language": "python",
   "name": "python3"
  },
  "language_info": {
   "codemirror_mode": {
    "name": "ipython",
    "version": 3
   },
   "file_extension": ".py",
   "mimetype": "text/x-python",
   "name": "python",
   "nbconvert_exporter": "python",
   "pygments_lexer": "ipython3",
   "version": "3.7.3"
  }
 },
 "nbformat": 4,
 "nbformat_minor": 2
}
